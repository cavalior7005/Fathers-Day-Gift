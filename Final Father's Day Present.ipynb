{
 "cells": [
  {
   "cell_type": "markdown",
   "metadata": {},
   "source": [
    "Hi Tato! Happy Fathers' Day and welcome to my movie recommendation program.\n",
    "---\n",
    "\n",
    "If you haven't yet, please read the readme.txt file in the github folder. If you have, please follow the instructions to be recommended a list of movies fitting your criteria.\n",
    "\n",
    "Below are several movie criteria. If you do not want to use a certain criteria, please input NA. You can select a movie based on the director, duration, imdb rating, content rating, and genre. Please put all entries in quotes\n",
    "\n"
   ]
  },
  {
   "cell_type": "code",
   "execution_count": 3,
   "metadata": {},
   "outputs": [
    {
     "name": "stdout",
     "output_type": "stream",
     "text": [
      "Enter a director's name ex. Joss Whedon: \"NA\"\n",
      "Enter the maximum movie duration in minutes ex. 120: \"120\"\n",
      "You can search for multiple genres by separating them with a comma. Please capitalize each genre. The available genres to search for are  ['Drama', 'Comedy', 'Thriller', 'Action', 'Romance', 'Adventure', 'Crime', 'Sci-Fi', 'Fantasy', 'Horror', 'Mystery', 'Biography', 'Documentary', 'Music', 'War', 'History']\n",
      "Enter the relevant genres ex. History, : \"Crime\"\n",
      "Enter the lowest imdb rating ex. 4.5: \"4\"\n",
      "Enter the rating you prefer ex. G, PG, PG-13, R: \"PG-13\"\n",
      "('NA', '120', 'Crime', '4', 'PG-13')\n"
     ]
    },
    {
     "data": {
      "text/plain": [
       "45                                    Furious 7�\n",
       "66                              The Dark Knight�\n",
       "209                                   Fast Five�\n",
       "210          Sherlock Holmes: A Game of Shadows�\n",
       "251                              Ocean's Twelve�\n",
       "252                            Mr. & Mrs. Smith�\n",
       "278                       Gone in Sixty Seconds�\n",
       "361                             Sherlock Holmes�\n",
       "371                             The Interpreter�\n",
       "374                            Now You See Me 2�\n",
       "405                            Ocean's Thirteen�\n",
       "524                              Now You See Me�\n",
       "541                                     Bandits�\n",
       "639                              Need for Speed�\n",
       "679                                Oliver Twist�\n",
       "688                                  Wyatt Earp�\n",
       "728                                Jack Reacher�\n",
       "762                               State of Play�\n",
       "763                                   Duplicity�\n",
       "898                         Catch Me If You Can�\n",
       "1064                          The Pelican Brief�\n",
       "1121                               The Fugitive�\n",
       "1225                              The Rainmaker�\n",
       "1322                              Heartbreakers�\n",
       "1382                                         21�\n",
       "1632                              Gridiron Gang�\n",
       "1649                        The Next Three Days�\n",
       "1779                            The Newton Boys�\n",
       "1810                                  Silverado�\n",
       "1929                            The Conspirator�\n",
       "2083                            Freedom Writers�\n",
       "3796    Batman: The Dark Knight Returns, Part 2�\n",
       "4173                               Jack Reacher�\n",
       "Name: movie_title, dtype: object"
      ]
     },
     "execution_count": 3,
     "metadata": {},
     "output_type": "execute_result"
    }
   ],
   "source": [
    "%matplotlib inline\n",
    "import pandas as pd\n",
    "import numpy as np\n",
    "import matplotlib.pylab as plt\n",
    "from scipy import stats\n",
    "import re\n",
    "from collections import Counter\n",
    "import ast\n",
    "\n",
    "#importing file\n",
    "film_data=pd.read_csv('film_data_dft.csv')\n",
    "\n",
    "#Instructions on how to begin\n",
    "genre_avail = [\"Drama\", \"Comedy\", \"Thriller\",\"Action\",\"Romance\", \"Adventure\", \"Crime\",\"Sci-Fi\", \"Fantasy\", \"Horror\", \"Mystery\",\"Biography\",\"Documentary\",\"Music\",\"War\",\"History\"]\n",
    "genres_disc = \"You can search for multiple genres by separating them with a comma. Please capitalize each genre. The available genres to search for are \"\n",
    "\n",
    "#requesting inputs\n",
    "director_crit = input(\"Enter a director's name ex. Joss Whedon: \")\n",
    "duration_crit = input(\"Enter the maximum movie duration in minutes ex. 120: \")\n",
    "print genres_disc,genre_avail\n",
    "genre_crit = input(\"Enter the relevant genres ex. History, : \")\n",
    "rating_crit = input(\"Enter the lowest imdb rating ex. 4.5: \")\n",
    "content_crit = input(\"Enter the rating you prefer ex. G, PG, PG-13, R: \")\n",
    "print(director_crit, duration_crit, genre_crit, rating_crit, content_crit)\n",
    "\n",
    "#director filter\n",
    "if director_crit != \"NA\":\n",
    "    film_data = film_data[film_data['director'] == director_crit]\n",
    "\n",
    "#duration filter\n",
    "if duration_crit != \"NA\":\n",
    "    duration_crit = int(duration_crit)\n",
    "    film_data = film_data[film_data['duration'] >= duration_crit]\n",
    "\n",
    "#genre filter\n",
    "film_data_gen = film_data\n",
    "genre_crit = genre_crit.split(\",\")\n",
    "if genre_crit != \"NA\":\n",
    "    for gen in genre_crit:\n",
    "        film_data_gen_crit = (film_data_gen[gen]==1)\n",
    "film_data = film_data_gen[film_data_gen_crit]\n",
    "\n",
    "#rating filter\n",
    "if rating_crit != \"NA\":\n",
    "    rating_crit = float(rating_crit)\n",
    "    film_data= film_data[film_data['imdb_score'] >=rating_crit]\n",
    "\n",
    "#content rating filter\n",
    "if content_crit != \"NA\":\n",
    "    film_data = film_data[film_data['content_rating'] == content_crit]\n",
    "\n",
    "#print suggested movies\n",
    "film_data[\"movie_title\"]"
   ]
  },
  {
   "cell_type": "code",
   "execution_count": null,
   "metadata": {
    "collapsed": true
   },
   "outputs": [],
   "source": []
  }
 ],
 "metadata": {
  "kernelspec": {
   "display_name": "Python 2",
   "language": "python",
   "name": "python2"
  },
  "language_info": {
   "codemirror_mode": {
    "name": "ipython",
    "version": 2
   },
   "file_extension": ".py",
   "mimetype": "text/x-python",
   "name": "python",
   "nbconvert_exporter": "python",
   "pygments_lexer": "ipython2",
   "version": "2.7.13"
  }
 },
 "nbformat": 4,
 "nbformat_minor": 2
}
