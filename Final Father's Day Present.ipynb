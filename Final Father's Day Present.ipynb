{
 "cells": [
  {
   "cell_type": "markdown",
   "metadata": {},
   "source": [
    "Hi Tato! Happy Fathers' Day and welcome to my movie recommendation program.\n",
    "---\n",
    "\n",
    "You are often commenting on how little there is to watch on television. Since I can't always be here to entertain you, I thought it would be a nifty idea to make a program that recommends movies to your liking instantly. Now, I can safely move to California knowing you've been taken care of. Give it a try! \n",
    "\n",
    "If you haven't yet, please read the readme.txt file in the github repository. If you have, follow those instructions to be recommended a list of movies.\n"
   ]
  },
  {
   "cell_type": "code",
   "execution_count": null,
   "metadata": {},
   "outputs": [],
   "source": [
    "%matplotlib inline\n",
    "import pandas as pd\n",
    "import numpy as np\n",
    "import matplotlib.pylab as plt\n",
    "from scipy import stats\n",
    "import re\n",
    "from collections import Counter\n",
    "import ast\n",
    "\n",
    "\n",
    "#importing file\n",
    "film_data=pd.read_csv('film_rec_tato.csv')\n",
    "\n",
    "#Instructions on how to begin\n",
    "genre_avail = [\"Drama\", \"Comedy\", \"Thriller\",\"Action\",\"Romance\", \"Adventure\", \"Crime\",\"Sci-Fi\", \"Fantasy\", \"Horror\", \"Mystery\",\"Biography\",\"Documentary\",\"Music\",\"War\",\"History\"]\n",
    "genres_disc = \"The available genres to search for are \"\n",
    "\n",
    "#requesting inputs\n",
    "director_crit = raw_input(\"Enter a director's name ex. Joss Whedon: \")\n",
    "duration_crit = raw_input(\"Enter the maximum movie duration in minutes ex. 120: \")\n",
    "print genres_disc,genre_avail\n",
    "genre_crit = raw_input(\"Enter the relevant genres ex. Adventure,Comedy,Mystery OR Biography: \")\n",
    "rating_crit = raw_input(\"Enter the lowest imdb rating ex. 4.5: \")\n",
    "content_crit = raw_input(\"Enter a content rating ex. G, PG, PG-13, R: \")\n",
    "print(director_crit, duration_crit, genre_crit, rating_crit, content_crit)\n",
    "\n",
    "#director filter\n",
    "if director_crit != \"NA\":\n",
    "    film_data = film_data[film_data['director'] == director_crit]\n",
    "\n",
    "#duration filter\n",
    "if duration_crit != \"NA\":\n",
    "    duration_crit = int(duration_crit)\n",
    "    film_data = film_data[film_data['duration'] >= duration_crit]\n",
    "\n",
    "#genre filter\n",
    "film_data_gen = film_data\n",
    "genre_crit = genre_crit.split(\",\")\n",
    "for gen in genre_crit:\n",
    "    film_data_gen_crit = (film_data_gen[gen]==1)\n",
    "\n",
    "#rating filter\n",
    "if rating_crit != \"NA\":\n",
    "    rating_crit = float(rating_crit)\n",
    "    film_data= film_data[film_data['imdb_score'] >=rating_crit]\n",
    "\n",
    "#content rating filter\n",
    "if content_crit != \"NA\":\n",
    "    film_data = film_data[film_data['content_rating'] == content_crit]\n",
    "\n",
    "#print suggested movies\n",
    "film_data[\"movie_title\"]\n",
    "\n",
    "#Produced by Eva Baransky June 2017"
   ]
  },
  {
   "cell_type": "code",
   "execution_count": null,
   "metadata": {
    "collapsed": true
   },
   "outputs": [],
   "source": []
  }
 ],
 "metadata": {
  "kernelspec": {
   "display_name": "Python 2",
   "language": "python",
   "name": "python2"
  },
  "language_info": {
   "codemirror_mode": {
    "name": "ipython",
    "version": 2
   },
   "file_extension": ".py",
   "mimetype": "text/x-python",
   "name": "python",
   "nbconvert_exporter": "python",
   "pygments_lexer": "ipython2",
   "version": "2.7.13"
  }
 },
 "nbformat": 4,
 "nbformat_minor": 2
}
